{
 "cells": [
  {
   "cell_type": "code",
   "execution_count": 1,
   "id": "6a14f478-fcf9-490f-834b-2345b76c04cd",
   "metadata": {},
   "outputs": [
    {
     "name": "stdout",
     "output_type": "stream",
     "text": [
      "0\n",
      "1\n",
      "2\n",
      "3\n",
      "4\n"
     ]
    }
   ],
   "source": [
    "# break \n",
    "i = 0 \n",
    "while i <=10:\n",
    "    if i == 5:\n",
    "        break \n",
    "    print(i)\n",
    "    i = i+1"
   ]
  },
  {
   "cell_type": "code",
   "execution_count": 2,
   "id": "20395da9-27b1-4c3e-9ef3-8791dfe4171b",
   "metadata": {},
   "outputs": [
    {
     "name": "stdout",
     "output_type": "stream",
     "text": [
      "01234678910"
     ]
    }
   ],
   "source": [
    "#continue\n",
    "i = 0 \n",
    "while i <=10:\n",
    "    if i == 5:\n",
    "        i = i+1\n",
    "        continue\n",
    "    print(i, end = \"\")\n",
    "    i = i+1"
   ]
  },
  {
   "cell_type": "code",
   "execution_count": 3,
   "id": "ea14e1d8-1b9d-470b-b431-b872351ea97e",
   "metadata": {},
   "outputs": [
    {
     "name": "stdout",
     "output_type": "stream",
     "text": [
      "Hello World I am Ram I am from Kathmandu and my age is 10.\n"
     ]
    }
   ],
   "source": [
    "# String formating \n",
    "#This formating is accurate follow this formating for string formating \n",
    "name = \"Ram\"\n",
    "age= 10\n",
    "add = \"Kathmandu\"\n",
    "info = f\"Hello World I am {name} I am from {add} and my age is {age}.\"\n",
    "print(info)"
   ]
  },
  {
   "cell_type": "code",
   "execution_count": 4,
   "id": "f6fa603d-4fbc-4438-8e93-081dc6cdf0eb",
   "metadata": {},
   "outputs": [
    {
     "ename": "SyntaxError",
     "evalue": "'(' was never closed (1900386212.py, line 6)",
     "output_type": "error",
     "traceback": [
      "\u001b[1;36m  Cell \u001b[1;32mIn[4], line 6\u001b[1;36m\u001b[0m\n\u001b[1;33m    price = int(input(\"Enter the price = \")\u001b[0m\n\u001b[1;37m               ^\u001b[0m\n\u001b[1;31mSyntaxError\u001b[0m\u001b[1;31m:\u001b[0m '(' was never closed\n"
     ]
    }
   ],
   "source": [
    "bill = \"\"\n",
    "all_total = 0\n",
    "n = int(input(\"ENter n = \"))\n",
    "for i in range (n):\n",
    "    name = input(\"Enter name = \")\n",
    "    price = int(input(\"Enter the price = \")"
   ]
  },
  {
   "cell_type": "code",
   "execution_count": 7,
   "id": "4f56fa37-adf7-43c5-9f77-ab990a98cd7e",
   "metadata": {},
   "outputs": [
    {
     "name": "stdin",
     "output_type": "stream",
     "text": [
      "Enter name =  Ram\n"
     ]
    },
    {
     "name": "stdout",
     "output_type": "stream",
     "text": [
      "Yes 1\n"
     ]
    }
   ],
   "source": [
    "a = \"Ram Shyam Hari Sita Gita\".lower()\n",
    "search = input(\"Enter name = \").lower()\n",
    "if search in a:\n",
    "    print(\"Yes\",a.count(search))\n",
    "else:\n",
    "    print(\"No\")\n",
    "\n"
   ]
  },
  {
   "cell_type": "code",
   "execution_count": 9,
   "id": "1317a92c-22e5-4fd1-8e31-9f0d6dd3ce97",
   "metadata": {},
   "outputs": [],
   "source": [
    "#imutaable =  cannot change the main value of the string. like a= \"Ram\" cannot change\n",
    "#mutable= can change the main value of the string"
   ]
  },
  {
   "cell_type": "code",
   "execution_count": 11,
   "id": "08f871db-9118-4567-a58c-17a279f86fa6",
   "metadata": {},
   "outputs": [
    {
     "name": "stdout",
     "output_type": "stream",
     "text": [
      "Ram Shyam Hari Sita Gita\n"
     ]
    }
   ],
   "source": [
    "a = \"ram shyam hari sita gita\"\n",
    "print(a.title())"
   ]
  },
  {
   "cell_type": "code",
   "execution_count": 13,
   "id": "0ca26295-c1ac-4908-85e1-013cee8d4be6",
   "metadata": {},
   "outputs": [
    {
     "name": "stdout",
     "output_type": "stream",
     "text": [
      "False\n",
      "True\n"
     ]
    }
   ],
   "source": [
    "a = \"ram shyam hari sita gita\"\n",
    "print(a.isupper())\n",
    "print(a.islower())"
   ]
  },
  {
   "cell_type": "code",
   "execution_count": 14,
   "id": "27763a53-7a4e-40e1-a661-0e21f57697f3",
   "metadata": {},
   "outputs": [
    {
     "data": {
      "text/plain": [
       "True"
      ]
     },
     "execution_count": 14,
     "metadata": {},
     "output_type": "execute_result"
    }
   ],
   "source": [
    "a = \"Ram\"\n",
    "a[0].isupper()"
   ]
  },
  {
   "cell_type": "code",
   "execution_count": 15,
   "id": "425c0567-d9d8-4383-8b08-49b40e73f5fc",
   "metadata": {},
   "outputs": [],
   "source": [
    "## replace function \n",
    "#string is immuable intergere,float etc are immuable "
   ]
  },
  {
   "cell_type": "code",
   "execution_count": 16,
   "id": "4c5125fe-4c32-41ae-9fa3-cbaf93bf3044",
   "metadata": {},
   "outputs": [
    {
     "name": "stdout",
     "output_type": "stream",
     "text": [
      "ram shyam hari sita gita\n"
     ]
    }
   ],
   "source": [
    "a = \"ram shyam hari sita gita\"\n",
    "a.replace ('ram', 'rama') # it is immuatable \n",
    "print(a)"
   ]
  },
  {
   "cell_type": "code",
   "execution_count": 19,
   "id": "cab501b0-8c0d-418e-8173-5c8b7565bf6f",
   "metadata": {},
   "outputs": [
    {
     "name": "stdout",
     "output_type": "stream",
     "text": [
      "ramaaa shyam hari sita gita\n"
     ]
    }
   ],
   "source": [
    "a = \"ram shyam hari sita gita\"\n",
    "a= a.replace ('ram', 'ramaaa') # it is muatable, it can change forcefully  \n",
    "print(a)"
   ]
  },
  {
   "cell_type": "code",
   "execution_count": 1,
   "id": "bf562bf8-80d8-42d9-9f61-734fb78ae4f3",
   "metadata": {},
   "outputs": [
    {
     "name": "stdout",
     "output_type": "stream",
     "text": [
      " shyam hari sita gita\n"
     ]
    }
   ],
   "source": [
    "#list, set and dic is mutable \n",
    "a = \"ram shyam hari sita gita\"\n",
    "a= a.replace ('ram', '') # it is muatable, it can change forcefully  \n",
    "print(a)"
   ]
  },
  {
   "cell_type": "code",
   "execution_count": 1,
   "id": "b0e67ab4-2a55-4b66-82ac-4982e913da85",
   "metadata": {},
   "outputs": [
    {
     "ename": "KeyboardInterrupt",
     "evalue": "Interrupted by user",
     "output_type": "error",
     "traceback": [
      "\u001b[1;31m---------------------------------------------------------------------------\u001b[0m",
      "\u001b[1;31mKeyboardInterrupt\u001b[0m                         Traceback (most recent call last)",
      "Cell \u001b[1;32mIn[1], line 1\u001b[0m\n\u001b[1;32m----> 1\u001b[0m a\u001b[38;5;241m=\u001b[39m \u001b[38;5;28;43minput\u001b[39;49m\u001b[43m(\u001b[49m\u001b[38;5;124;43m\"\u001b[39;49m\u001b[38;5;124;43mENter the parentram data\u001b[39;49m\u001b[38;5;124;43m\"\u001b[39;49m\u001b[43m)\u001b[49m\n\u001b[0;32m      2\u001b[0m i\u001b[38;5;241m=\u001b[39m \u001b[38;5;241m0\u001b[39m\n\u001b[0;32m      3\u001b[0m \u001b[38;5;28;01mfor\u001b[39;00m element \u001b[38;5;129;01min\u001b[39;00m a:\n",
      "File \u001b[1;32m~\\AppData\\Local\\Programs\\Python\\Python310\\lib\\site-packages\\ipykernel\\kernelbase.py:1202\u001b[0m, in \u001b[0;36mKernel.raw_input\u001b[1;34m(self, prompt)\u001b[0m\n\u001b[0;32m   1200\u001b[0m     msg \u001b[38;5;241m=\u001b[39m \u001b[38;5;124m\"\u001b[39m\u001b[38;5;124mraw_input was called, but this frontend does not support input requests.\u001b[39m\u001b[38;5;124m\"\u001b[39m\n\u001b[0;32m   1201\u001b[0m     \u001b[38;5;28;01mraise\u001b[39;00m StdinNotImplementedError(msg)\n\u001b[1;32m-> 1202\u001b[0m \u001b[38;5;28;01mreturn\u001b[39;00m \u001b[38;5;28;43mself\u001b[39;49m\u001b[38;5;241;43m.\u001b[39;49m\u001b[43m_input_request\u001b[49m\u001b[43m(\u001b[49m\n\u001b[0;32m   1203\u001b[0m \u001b[43m    \u001b[49m\u001b[38;5;28;43mstr\u001b[39;49m\u001b[43m(\u001b[49m\u001b[43mprompt\u001b[49m\u001b[43m)\u001b[49m\u001b[43m,\u001b[49m\n\u001b[0;32m   1204\u001b[0m \u001b[43m    \u001b[49m\u001b[38;5;28;43mself\u001b[39;49m\u001b[38;5;241;43m.\u001b[39;49m\u001b[43m_parent_ident\u001b[49m\u001b[43m[\u001b[49m\u001b[38;5;124;43m\"\u001b[39;49m\u001b[38;5;124;43mshell\u001b[39;49m\u001b[38;5;124;43m\"\u001b[39;49m\u001b[43m]\u001b[49m\u001b[43m,\u001b[49m\n\u001b[0;32m   1205\u001b[0m \u001b[43m    \u001b[49m\u001b[38;5;28;43mself\u001b[39;49m\u001b[38;5;241;43m.\u001b[39;49m\u001b[43mget_parent\u001b[49m\u001b[43m(\u001b[49m\u001b[38;5;124;43m\"\u001b[39;49m\u001b[38;5;124;43mshell\u001b[39;49m\u001b[38;5;124;43m\"\u001b[39;49m\u001b[43m)\u001b[49m\u001b[43m,\u001b[49m\n\u001b[0;32m   1206\u001b[0m \u001b[43m    \u001b[49m\u001b[43mpassword\u001b[49m\u001b[38;5;241;43m=\u001b[39;49m\u001b[38;5;28;43;01mFalse\u001b[39;49;00m\u001b[43m,\u001b[49m\n\u001b[0;32m   1207\u001b[0m \u001b[43m\u001b[49m\u001b[43m)\u001b[49m\n",
      "File \u001b[1;32m~\\AppData\\Local\\Programs\\Python\\Python310\\lib\\site-packages\\ipykernel\\kernelbase.py:1245\u001b[0m, in \u001b[0;36mKernel._input_request\u001b[1;34m(self, prompt, ident, parent, password)\u001b[0m\n\u001b[0;32m   1242\u001b[0m \u001b[38;5;28;01mexcept\u001b[39;00m \u001b[38;5;167;01mKeyboardInterrupt\u001b[39;00m:\n\u001b[0;32m   1243\u001b[0m     \u001b[38;5;66;03m# re-raise KeyboardInterrupt, to truncate traceback\u001b[39;00m\n\u001b[0;32m   1244\u001b[0m     msg \u001b[38;5;241m=\u001b[39m \u001b[38;5;124m\"\u001b[39m\u001b[38;5;124mInterrupted by user\u001b[39m\u001b[38;5;124m\"\u001b[39m\n\u001b[1;32m-> 1245\u001b[0m     \u001b[38;5;28;01mraise\u001b[39;00m \u001b[38;5;167;01mKeyboardInterrupt\u001b[39;00m(msg) \u001b[38;5;28;01mfrom\u001b[39;00m \u001b[38;5;28;01mNone\u001b[39;00m\n\u001b[0;32m   1246\u001b[0m \u001b[38;5;28;01mexcept\u001b[39;00m \u001b[38;5;167;01mException\u001b[39;00m:\n\u001b[0;32m   1247\u001b[0m     \u001b[38;5;28mself\u001b[39m\u001b[38;5;241m.\u001b[39mlog\u001b[38;5;241m.\u001b[39mwarning(\u001b[38;5;124m\"\u001b[39m\u001b[38;5;124mInvalid Message:\u001b[39m\u001b[38;5;124m\"\u001b[39m, exc_info\u001b[38;5;241m=\u001b[39m\u001b[38;5;28;01mTrue\u001b[39;00m)\n",
      "\u001b[1;31mKeyboardInterrupt\u001b[0m: Interrupted by user"
     ]
    }
   ],
   "source": [
    "#incomplete\n",
    "a= input(\"ENter the parentram data\")\n",
    "i= 0\n",
    "for element in a:\n",
    "    a[i] = mirror[element]\n",
    "    i= +1\n"
   ]
  },
  {
   "cell_type": "code",
   "execution_count": 3,
   "id": "e7a394f7-64ed-4f75-915d-6b313aad0693",
   "metadata": {},
   "outputs": [
    {
     "name": "stdout",
     "output_type": "stream",
     "text": [
      "['Jon']\n"
     ]
    }
   ],
   "source": [
    "#for delte del remove() pop()\n",
    "a= ['Ram','Hari','shyam','Jon']\n",
    "del a[1]\n",
    "del a[0:2] \n",
    "print (a)\n"
   ]
  },
  {
   "cell_type": "code",
   "execution_count": 4,
   "id": "974a0187-725f-44fe-87df-b6f92028c5c8",
   "metadata": {},
   "outputs": [
    {
     "name": "stdout",
     "output_type": "stream",
     "text": [
      "['shyam', 'Jon']\n"
     ]
    }
   ],
   "source": [
    "a= ['Ram','Hari','shyam','Jon']\n",
    "del a[0:2] # 0 and 1 are deleted \n",
    "print(a)"
   ]
  },
  {
   "cell_type": "code",
   "execution_count": 7,
   "id": "24a9c11d-c026-4347-86e9-2a006e8a2e78",
   "metadata": {},
   "outputs": [
    {
     "data": {
      "text/plain": [
       "['Ram', 'Hari', 'Jon']"
      ]
     },
     "execution_count": 7,
     "metadata": {},
     "output_type": "execute_result"
    }
   ],
   "source": [
    "#remove can remove one item at one time onlu\n",
    "a= ['Ram','Hari','shyam','Jon']\n",
    "a.remove('shyam')\n",
    "a.pop() # this delete last ko value \n",
    "a"
   ]
  },
  {
   "cell_type": "code",
   "execution_count": 8,
   "id": "7aec0a13-becd-4694-baae-419b2d87ba5b",
   "metadata": {},
   "outputs": [
    {
     "name": "stdout",
     "output_type": "stream",
     "text": [
      "['Ram', 'shyam', 'Jon']\n",
      "Hari\n"
     ]
    }
   ],
   "source": [
    "a= ['Ram','Hari','shyam','Jon']\n",
    "b= a.pop(1) \n",
    "print(a)\n",
    "print(b)\n"
   ]
  },
  {
   "cell_type": "code",
   "execution_count": 9,
   "id": "a7b2298f-6b0e-404d-b85c-7d4d46c66807",
   "metadata": {},
   "outputs": [
    {
     "name": "stdout",
     "output_type": "stream",
     "text": [
      "Ram\n",
      "Hari\n",
      "shyam\n",
      "Jon\n"
     ]
    }
   ],
   "source": [
    "a= ['Ram','Hari','shyam','Jon']\n",
    "for i in a:\n",
    "    print(i)"
   ]
  },
  {
   "cell_type": "code",
   "execution_count": 10,
   "id": "921009a3-a14e-4b8c-aace-56aa2084e783",
   "metadata": {},
   "outputs": [
    {
     "data": {
      "text/plain": [
       "4"
      ]
     },
     "execution_count": 10,
     "metadata": {},
     "output_type": "execute_result"
    }
   ],
   "source": [
    "a= ['Ram','Hari','shyam','Jon']\n",
    "l=len(a)\n",
    "l"
   ]
  },
  {
   "cell_type": "code",
   "execution_count": 12,
   "id": "f8b4bfdd-35f6-46eb-9447-504d2b5f85fe",
   "metadata": {},
   "outputs": [
    {
     "name": "stdout",
     "output_type": "stream",
     "text": [
      "Ram\n",
      "Hari\n",
      "shyam\n",
      "Jon\n"
     ]
    }
   ],
   "source": [
    "\n",
    "i=0\n",
    "a= ['Ram','Hari','shyam','Jon']\n",
    "l=len(a)\n",
    "while i<l:\n",
    "    print(a[i])\n",
    "    i = i+1\n"
   ]
  },
  {
   "cell_type": "code",
   "execution_count": 13,
   "id": "92a2bde6-a276-4c3d-95d6-307af9501b6a",
   "metadata": {},
   "outputs": [
    {
     "name": "stdout",
     "output_type": "stream",
     "text": [
      "['Hari', 'shyam', 'Jon', 'Mark']\n"
     ]
    }
   ],
   "source": [
    "# removing mutiple values\n",
    "a= ['Ram','Hari','shyam','Jon','Mark']\n",
    "c= a.count(\"Ram\")\n",
    "for i in range(c):\n",
    "    a.remove(\"Ram\")\n",
    "print(a)"
   ]
  },
  {
   "cell_type": "code",
   "execution_count": 14,
   "id": "e0c6567f-80cd-4454-b51f-a81f42b0bdda",
   "metadata": {},
   "outputs": [
    {
     "name": "stdout",
     "output_type": "stream",
     "text": [
      "Yes 1\n"
     ]
    }
   ],
   "source": [
    "a= ['Ram','Hari','shyam','Jon','Mark', 'Ram']\n",
    "if \"Ram\" in a:\n",
    "    print(\"Yes\", a.count(\"Ram\"))\n",
    "else:\n",
    "    print(\"No\")"
   ]
  },
  {
   "cell_type": "code",
   "execution_count": 18,
   "id": "d8aaa33b-a812-4dd9-bc69-51adddba1e4c",
   "metadata": {},
   "outputs": [
    {
     "data": {
      "text/plain": [
       "0"
      ]
     },
     "execution_count": 18,
     "metadata": {},
     "output_type": "execute_result"
    }
   ],
   "source": [
    "a= ['Ram','Hari','shyam','Jon','Mark','Ram']\n",
    "# .index multiple values ko lagi hunna\n",
    "a.index(\"Ram\")"
   ]
  },
  {
   "cell_type": "code",
   "execution_count": 23,
   "id": "dc15ccfc-5a92-44b4-bb68-ccbe4660fe3c",
   "metadata": {},
   "outputs": [
    {
     "name": "stdin",
     "output_type": "stream",
     "text": [
      "Enter the name go get the indexing  RaM\n"
     ]
    },
    {
     "name": "stdout",
     "output_type": "stream",
     "text": [
      "0\n",
      "5\n"
     ]
    }
   ],
   "source": [
    "#finding mutiple values of indexing\n",
    "a= ['Ram','Hari','shyam','Jon','Mark','Ram']\n",
    "name = input(\"Enter the name go get the indexing \")\n",
    "l= len(a)\n",
    "for i in range(l):\n",
    "    if a[i].lower()== name.lower():\n",
    "        print(i)"
   ]
  },
  {
   "cell_type": "code",
   "execution_count": null,
   "id": "b0ab5388-51ab-4b07-9fb2-0f6229c626d9",
   "metadata": {},
   "outputs": [],
   "source": [
    "#append function only in list"
   ]
  },
  {
   "cell_type": "code",
   "execution_count": null,
   "id": "3b18ad68-2835-4aa6-b988-b384e3a76daa",
   "metadata": {},
   "outputs": [],
   "source": []
  }
 ],
 "metadata": {
  "kernelspec": {
   "display_name": "Python 3 (ipykernel)",
   "language": "python",
   "name": "python3"
  },
  "language_info": {
   "codemirror_mode": {
    "name": "ipython",
    "version": 3
   },
   "file_extension": ".py",
   "mimetype": "text/x-python",
   "name": "python",
   "nbconvert_exporter": "python",
   "pygments_lexer": "ipython3",
   "version": "3.10.0"
  }
 },
 "nbformat": 4,
 "nbformat_minor": 5
}
