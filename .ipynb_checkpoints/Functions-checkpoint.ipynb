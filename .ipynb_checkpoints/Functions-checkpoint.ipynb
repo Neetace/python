{
 "cells": [
  {
   "cell_type": "code",
   "execution_count": 1,
   "id": "52cd2f72-6a9e-4e09-8bc1-0ca2fb610b35",
   "metadata": {},
   "outputs": [],
   "source": [
    "# Function "
   ]
  },
  {
   "cell_type": "code",
   "execution_count": 6,
   "id": "9d9a6581-8fad-4a3c-a439-4833fbcd281e",
   "metadata": {},
   "outputs": [
    {
     "name": "stdin",
     "output_type": "stream",
     "text": [
      "Enter l =  10\n",
      "Enter b =  1\n",
      "Enter h = 2\n"
     ]
    },
    {
     "name": "stdout",
     "output_type": "stream",
     "text": [
      "10\n"
     ]
    }
   ],
   "source": [
    "# Return type function \n",
    "def cal(l,b):\n",
    "    a = l*b\n",
    "    return a\n",
    "l = int(input(\"Enter l = \"))\n",
    "b= int(input(\"Enter b = \"))\n",
    "h = int(input(\"Enter h =\"))\n",
    "area = cal(l,b)\n",
    "volume= area*h\n",
    "print(area)"
   ]
  },
  {
   "cell_type": "code",
   "execution_count": 14,
   "id": "3fbe1065-3b80-44a1-a8ba-e0eb8ee057ce",
   "metadata": {},
   "outputs": [
    {
     "name": "stdin",
     "output_type": "stream",
     "text": [
      "Enter a =  10\n",
      "Enter b =  100\n",
      "Enter + or - or /  /\n"
     ]
    },
    {
     "name": "stdout",
     "output_type": "stream",
     "text": [
      "0.1\n"
     ]
    }
   ],
   "source": [
    "def add(a,b):\n",
    "    return a+b\n",
    "def sub(a,b):\n",
    "    return a-b\n",
    "def mul(a,b):\n",
    "    return a*b\n",
    "def div(a,b):\n",
    "    return a/b\n",
    "def cal(a,b,O):\n",
    "    if O== \"+\":\n",
    "        print(add(a,b))\n",
    "    elif O == \"-\":\n",
    "        print(sub(a,b))\n",
    "    elif O == \"*\":\n",
    "        print(mul(a,b))\n",
    "    elif O == \"/\" and b!= 0:\n",
    "        print(div(a,b))\n",
    "    elif O ==\"/\" and b == 0:\n",
    "        print(\"The value of b can not be zero\")\n",
    "    else: \n",
    "        print(\"Invalid operator\")\n",
    "a = int(input(\"Enter a = \"))\n",
    "b = int(input(\"Enter b = \"))\n",
    "O = (input(\"Enter + or - or / \"))\n",
    "cal (a,b,O)"
   ]
  },
  {
   "cell_type": "code",
   "execution_count": null,
   "id": "bdfa3499-c1ca-4580-9a99-a234aa9bcbd7",
   "metadata": {},
   "outputs": [],
   "source": []
  }
 ],
 "metadata": {
  "kernelspec": {
   "display_name": "Python 3 (ipykernel)",
   "language": "python",
   "name": "python3"
  },
  "language_info": {
   "codemirror_mode": {
    "name": "ipython",
    "version": 3
   },
   "file_extension": ".py",
   "mimetype": "text/x-python",
   "name": "python",
   "nbconvert_exporter": "python",
   "pygments_lexer": "ipython3",
   "version": "3.10.0"
  }
 },
 "nbformat": 4,
 "nbformat_minor": 5
}
