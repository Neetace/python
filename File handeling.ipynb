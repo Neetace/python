{
 "cells": [
  {
   "cell_type": "code",
   "execution_count": 1,
   "id": "717db847-2e85-44ac-8049-bd72d32fe39a",
   "metadata": {},
   "outputs": [],
   "source": [
    "#write on file \n",
    "file= open ('data1.text','w')\n",
    "file.write ('Hello world')\n",
    "file.close()"
   ]
  },
  {
   "cell_type": "code",
   "execution_count": 19,
   "id": "38c66a5f-f9cb-4712-84cd-640faae27305",
   "metadata": {},
   "outputs": [
    {
     "name": "stdin",
     "output_type": "stream",
     "text": [
      "Enter n =  3\n",
      "Enter name =  dfs\n",
      "Enter price =  23\n",
      "Enter quantity =  34\n",
      "Enter name =  sdfa\n",
      "Enter price =  2\n",
      "Enter quantity =  3\n",
      "Enter name =  asdfa\n",
      "Enter price =  23\n",
      "Enter quantity =  3\n"
     ]
    }
   ],
   "source": [
    "bill = \"\"\n",
    "n = int(input(\"Enter n = \"))\n",
    "for i in range(n):\n",
    "    name = input(\"Enter name = \")\n",
    "    price = int(input(\"Enter price = \"))\n",
    "    quantity = int(input(\"Enter quantity = \"))\n",
    "    total= price*quantity\n",
    "    bill = bill + f\"{name} {price}{quantity}{total}\\n\"\n",
    "file = open('bill.txt','w')\n",
    "file.write(bill)\n",
    "file.close()"
   ]
  },
  {
   "cell_type": "code",
   "execution_count": 20,
   "id": "0e068093-2af8-420f-8cc8-ba9fc310fe33",
   "metadata": {},
   "outputs": [
    {
     "name": "stdout",
     "output_type": "stream",
     "text": [
      "dfs 2334782\n",
      "sdfa 236\n",
      "asdfa 23369\n",
      "\n"
     ]
    }
   ],
   "source": [
    "file = open('bill.txt', 'r')\n",
    "content = file.read()\n",
    "print(content)\n",
    "file.close()"
   ]
  },
  {
   "cell_type": "code",
   "execution_count": 21,
   "id": "4361ed9a-0475-4b29-b61c-fe4023e80901",
   "metadata": {},
   "outputs": [
    {
     "data": {
      "text/plain": [
       "['dfs 2334782', 'sdfa 236', 'asdfa 23369']"
      ]
     },
     "execution_count": 21,
     "metadata": {},
     "output_type": "execute_result"
    }
   ],
   "source": [
    "data = content.split('\\n') [: -1]\n",
    "data"
   ]
  },
  {
   "cell_type": "code",
   "execution_count": 24,
   "id": "5da04bd9-da90-4aa4-b633-6bf9a4f0307f",
   "metadata": {},
   "outputs": [
    {
     "name": "stdout",
     "output_type": "stream",
     "text": [
      "['dfs', '2334782']\n",
      "['sdfa', '236']\n",
      "['asdfa', '23369']\n"
     ]
    }
   ],
   "source": [
    "for i in data:\n",
    "    print(i.split())"
   ]
  },
  {
   "cell_type": "code",
   "execution_count": 28,
   "id": "e4a895fb-76b0-4225-b2a2-53ee957b61bc",
   "metadata": {},
   "outputs": [
    {
     "ename": "IndexError",
     "evalue": "list index out of range",
     "output_type": "error",
     "traceback": [
      "\u001b[1;31m---------------------------------------------------------------------------\u001b[0m",
      "\u001b[1;31mIndexError\u001b[0m                                Traceback (most recent call last)",
      "Cell \u001b[1;32mIn[28], line 5\u001b[0m\n\u001b[0;32m      3\u001b[0m x \u001b[38;5;241m=\u001b[39m i\u001b[38;5;241m.\u001b[39msplit()\n\u001b[0;32m      4\u001b[0m x[\u001b[38;5;241m1\u001b[39m] \u001b[38;5;241m=\u001b[39m \u001b[38;5;28mint\u001b[39m(x[\u001b[38;5;241m1\u001b[39m])\n\u001b[1;32m----> 5\u001b[0m x[\u001b[38;5;241m2\u001b[39m] \u001b[38;5;241m=\u001b[39m \u001b[38;5;28mint\u001b[39m(\u001b[43mx\u001b[49m\u001b[43m[\u001b[49m\u001b[38;5;241;43m2\u001b[39;49m\u001b[43m]\u001b[49m)\n\u001b[0;32m      6\u001b[0m x[\u001b[38;5;241m3\u001b[39m] \u001b[38;5;241m=\u001b[39m \u001b[38;5;28mint\u001b[39m(x[\u001b[38;5;241m3\u001b[39m])\n\u001b[0;32m      7\u001b[0m list_bill\u001b[38;5;241m.\u001b[39mappend(x)\n",
      "\u001b[1;31mIndexError\u001b[0m: list index out of range"
     ]
    }
   ],
   "source": [
    "list_bill= []\n",
    "for i in data:\n",
    "    x = i.split()\n",
    "    x[1] = int(x[1])\n",
    "    x[2] = int(x[2])\n",
    "    x[3] = int(x[3])\n",
    "    list_bill.append(x)\n",
    "list_bill"
   ]
  },
  {
   "cell_type": "code",
   "execution_count": 27,
   "id": "336dccbc-f1a3-41a4-b9ba-9a1cc53854b6",
   "metadata": {},
   "outputs": [
    {
     "ename": "IndexError",
     "evalue": "list assignment index out of range",
     "output_type": "error",
     "traceback": [
      "\u001b[1;31m---------------------------------------------------------------------------\u001b[0m",
      "\u001b[1;31mIndexError\u001b[0m                                Traceback (most recent call last)",
      "Cell \u001b[1;32mIn[27], line 1\u001b[0m\n\u001b[1;32m----> 1\u001b[0m \u001b[38;5;28;01mdel\u001b[39;00m list_bill[\u001b[38;5;241m1\u001b[39m]\n",
      "\u001b[1;31mIndexError\u001b[0m: list assignment index out of range"
     ]
    }
   ],
   "source": [
    "del list_bill[1]"
   ]
  },
  {
   "cell_type": "code",
   "execution_count": 26,
   "id": "76fa5926-eb56-40e6-a5fd-2c6b87bc143e",
   "metadata": {},
   "outputs": [],
   "source": [
    "# writing list into file \n",
    "import csv\n",
    "file = open('bill1.txt','w')\n",
    "x = csv.writer(file)\n",
    "x.writerows(list_bill)\n",
    "file.close()"
   ]
  },
  {
   "cell_type": "code",
   "execution_count": 38,
   "id": "c6434006-eb3d-4127-b745-44a5d10967f6",
   "metadata": {},
   "outputs": [
    {
     "name": "stdin",
     "output_type": "stream",
     "text": [
      "Enter n =  1\n",
      "Enter name =  df\n",
      "Enter age =  12\n",
      "Enter add =  dsfj\n"
     ]
    }
   ],
   "source": [
    "# Append mode in file\n",
    "file = open('append_bill.text','a')\n",
    "info = \"\"\n",
    "n = int(input(\"Enter n = \"))\n",
    "for i in range(n):\n",
    "    name = input(\"Enter name = \")\n",
    "    age = input(\"Enter age = \")\n",
    "    add = input(\"Enter add = \")\n",
    "    info = info + f\" {name} {age} {add} \\n\"\n",
    "file.write(info)\n",
    "file.close()"
   ]
  },
  {
   "cell_type": "code",
   "execution_count": null,
   "id": "a266a2cd-1816-40c3-977e-ce5579628037",
   "metadata": {},
   "outputs": [],
   "source": []
  },
  {
   "cell_type": "code",
   "execution_count": null,
   "id": "4ea51984-584d-4509-ad11-7efb73cc9fef",
   "metadata": {},
   "outputs": [],
   "source": []
  }
 ],
 "metadata": {
  "kernelspec": {
   "display_name": "Python 3 (ipykernel)",
   "language": "python",
   "name": "python3"
  },
  "language_info": {
   "codemirror_mode": {
    "name": "ipython",
    "version": 3
   },
   "file_extension": ".py",
   "mimetype": "text/x-python",
   "name": "python",
   "nbconvert_exporter": "python",
   "pygments_lexer": "ipython3",
   "version": "3.10.0"
  }
 },
 "nbformat": 4,
 "nbformat_minor": 5
}
