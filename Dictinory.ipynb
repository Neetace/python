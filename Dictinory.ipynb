{
 "cells": [
  {
   "cell_type": "code",
   "execution_count": 1,
   "id": "6553063f-2461-473d-a29b-7f1cc928c8da",
   "metadata": {},
   "outputs": [
    {
     "name": "stdout",
     "output_type": "stream",
     "text": [
      "98879898\n",
      "79329847932\n",
      "12389028390\n"
     ]
    }
   ],
   "source": [
    "a = {'Ram': 98879898, 'Shyam': 79329847932, 'Hari': 12389028390}\n",
    "for i in a.values():\n",
    "    print(i)"
   ]
  },
  {
   "cell_type": "code",
   "execution_count": 2,
   "id": "c0350731-226b-4f59-b933-25dc1f8327f4",
   "metadata": {},
   "outputs": [
    {
     "name": "stdout",
     "output_type": "stream",
     "text": [
      "('Ram', 98879898)\n",
      "('Shyam', 79329847932)\n",
      "('Hari', 12389028390)\n"
     ]
    }
   ],
   "source": [
    "a = {'Ram': 98879898, 'Shyam': 79329847932, 'Hari': 12389028390}\n",
    "for i in a.items():\n",
    "    print(i)"
   ]
  },
  {
   "cell_type": "code",
   "execution_count": 3,
   "id": "39241307-88d3-4de2-847f-f1263c77e688",
   "metadata": {},
   "outputs": [
    {
     "data": {
      "text/plain": [
       "{'Ram': 38388333,\n",
       " 'Shyam': 79329847932,\n",
       " 'Hari': 12389028390,\n",
       " 'Somebody': 9899898998}"
      ]
     },
     "execution_count": 3,
     "metadata": {},
     "output_type": "execute_result"
    }
   ],
   "source": [
    "#add and update dic\n",
    "a = {'Ram': 98879898, 'Shyam': 79329847932, 'Hari': 12389028390}\n",
    "a['Ram']= 38388333\n",
    "a['Somebody'] = 9899898998\n",
    "a"
   ]
  },
  {
   "cell_type": "code",
   "execution_count": 4,
   "id": "7e6d39e2-097a-47d1-8f19-c55dc283dbeb",
   "metadata": {},
   "outputs": [
    {
     "data": {
      "text/plain": [
       "{'Ram': 98879898,\n",
       " 'Shyam': 79329847932,\n",
       " 'Hari': 12389028390,\n",
       " 'Sita': 9808299303,\n",
       " 'Babita': 989898}"
      ]
     },
     "execution_count": 4,
     "metadata": {},
     "output_type": "execute_result"
    }
   ],
   "source": [
    "#concanating\n",
    "a = {'Ram': 98879898, 'Shyam': 79329847932, 'Hari': 12389028390}\n",
    "b= {'Sita': 9808299303, 'Babita': 989898}\n",
    "a.update(b)\n",
    "a"
   ]
  },
  {
   "cell_type": "code",
   "execution_count": 5,
   "id": "844d96a6-3515-4c15-a4a0-0493e055a926",
   "metadata": {},
   "outputs": [
    {
     "data": {
      "text/plain": [
       "{'Shyam': 79329847932, 'Hari': 12389028390}"
      ]
     },
     "execution_count": 5,
     "metadata": {},
     "output_type": "execute_result"
    }
   ],
   "source": [
    "#delete or pop\n",
    "a = {'Ram': 98879898, 'Shyam': 79329847932, 'Hari': 12389028390}\n",
    "del a['Ram']\n",
    "a"
   ]
  },
  {
   "cell_type": "code",
   "execution_count": 6,
   "id": "877e11f8-94d7-40a8-b68d-8d85d1cafb02",
   "metadata": {},
   "outputs": [
    {
     "name": "stdout",
     "output_type": "stream",
     "text": [
      "98879898\n",
      "{'Shyam': 79329847932, 'Hari': 12389028390}\n"
     ]
    }
   ],
   "source": [
    "a = {'Ram': 98879898, 'Shyam': 79329847932, 'Hari': 12389028390}\n",
    "b = a.pop('Ram')\n",
    "print(b)\n",
    "print(a)"
   ]
  },
  {
   "cell_type": "code",
   "execution_count": null,
   "id": "452991b5-347b-4ab0-8f5c-2ce5cd3edbba",
   "metadata": {},
   "outputs": [],
   "source": [
    "# list inside dict\n",
    "a = {'Ram': 98879898, 8329749832 , 'Shyam': 79329847932, 234890343, 'Hari': 12389028390,123232}\n",
    "a['Ram'].append(\"123829\")\n",
    "a\n"
   ]
  },
  {
   "cell_type": "code",
   "execution_count": null,
   "id": "2df3b9fd-e7b3-4466-9391-0f87735f794e",
   "metadata": {},
   "outputs": [],
   "source": []
  },
  {
   "cell_type": "code",
   "execution_count": null,
   "id": "195dc52e-d9ca-455b-b96d-981665959180",
   "metadata": {},
   "outputs": [],
   "source": [
    "a = {'name':['Ram', 'Shyam', 'Hari'],\n",
    "'age': [20,34,67],\n",
    "'add':['Ktm','Pokhara', 'Lalitpur']}\n",
    "a"
   ]
  },
  {
   "cell_type": "markdown",
   "id": "a5502787-d15b-4587-a071-60f2df04b4b4",
   "metadata": {},
   "source": [
    "a= {}\n",
    "n = (input(\"Enter name = \"))\n",
    "for i in range(n):\n",
    "    name = input(\"Enter name = \")\n",
    "    ntc = int(input(\"Enter ntc no = \"))\n",
    "    ncell = int(input(\"Enter ncell no\"))\n",
    "    a[name] = [ntc,ncell]\n",
    "print(a)"
   ]
  },
  {
   "cell_type": "code",
   "execution_count": null,
   "id": "48bf6ab4-63bf-4322-8995-86b5a3ce4689",
   "metadata": {},
   "outputs": [],
   "source": [
    "a= {'name':[], 'age':[],'add':[]}\n",
    "n = int(input(\"Enter n = \"))\n",
    "for i in range(n):\n",
    "    name = input(\"Enter name = \")\n",
    "    age = int(input(\"Enter ntc no = \"))\n",
    "    add = int(input(\"Enter ncell no\"))\n",
    "    a['name'].append(name)\n",
    "    a['age'].append(age)\n",
    "    a['add'].append(add)\n",
    "\n",
    "print(a)"
   ]
  },
  {
   "cell_type": "code",
   "execution_count": null,
   "id": "8d3d657b-86a3-4009-bbc3-00a99a459b95",
   "metadata": {},
   "outputs": [],
   "source": [
    "a = {'name': ['Ram', 'Shyam'], 'age': [34,35],'add': ['Kathmandu','pokhara']}\n",
    "print(\"Name = \",a['name'][0])\n",
    "print(\"Name = \",a['age'][0])\n",
    "print(\"Name = \",a['add'][0])\n",
    "a['age'][0]=33\n",
    "a"
   ]
  },
  {
   "cell_type": "code",
   "execution_count": 2,
   "id": "da82f39d-76de-4e31-b20e-307cae8f6c6f",
   "metadata": {},
   "outputs": [
    {
     "name": "stdin",
     "output_type": "stream",
     "text": [
      "Enter index = 1\n"
     ]
    },
    {
     "name": "stdout",
     "output_type": "stream",
     "text": [
      "{'name': ['Ram'], 'age': [34], 'add': ['Kathmandu']}\n"
     ]
    }
   ],
   "source": [
    "a = {'name': ['Ram', 'Shyam'], 'age': [34,35],'add': ['Kathmandu','pokhara']}\n",
    "k = list(a.keys())\n",
    "index = int(input(\"Enter index =\"))\n",
    "for i in a:\n",
    "    del a[i][index]\n",
    "print(a)\n",
    "#Another way of deleting automated task\n",
    "# del a['name'][0]\n",
    "# del a['age'][0]\n",
    "# del a['add'][0]\n",
    "# a"
   ]
  },
  {
   "cell_type": "code",
   "execution_count": 3,
   "id": "ba6209eb-aabd-48e8-9cd8-f46a0c529876",
   "metadata": {},
   "outputs": [
    {
     "name": "stdin",
     "output_type": "stream",
     "text": [
      "Enter index = 1\n",
      "Enter name Hari\n",
      "Enter age 98\n",
      "Enter add butwol\n"
     ]
    },
    {
     "name": "stdout",
     "output_type": "stream",
     "text": [
      "{'name': ['Ram', 'Hari'], 'age': [34, '98'], 'add': ['Kathmandu', 'butwol']}\n"
     ]
    }
   ],
   "source": [
    "a = {'name': ['Ram', 'Shyam'], 'age': [34,35],'add': ['Kathmandu','pokhara']}\n",
    "index = int(input(\"Enter index =\"))\n",
    "for i in a:\n",
    "    x = input(f\"Enter {i}\")\n",
    "    a[i][index] = x\n",
    "print(a)"
   ]
  },
  {
   "cell_type": "code",
   "execution_count": null,
   "id": "1be3a071-13aa-4108-bdf4-447847c9afa4",
   "metadata": {},
   "outputs": [],
   "source": []
  }
 ],
 "metadata": {
  "kernelspec": {
   "display_name": "Python 3 (ipykernel)",
   "language": "python",
   "name": "python3"
  },
  "language_info": {
   "codemirror_mode": {
    "name": "ipython",
    "version": 3
   },
   "file_extension": ".py",
   "mimetype": "text/x-python",
   "name": "python",
   "nbconvert_exporter": "python",
   "pygments_lexer": "ipython3",
   "version": "3.10.0"
  }
 },
 "nbformat": 4,
 "nbformat_minor": 5
}
