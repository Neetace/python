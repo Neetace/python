{
 "cells": [
  {
   "cell_type": "code",
   "execution_count": null,
   "id": "1d00d88a-261f-41fc-af1a-e25b4119d03f",
   "metadata": {},
   "outputs": [],
   "source": []
  },
  {
   "cell_type": "code",
   "execution_count": 10,
   "id": "e8b8bef5-331d-47e6-9b1e-72ff9c3293b7",
   "metadata": {},
   "outputs": [
    {
     "name": "stdin",
     "output_type": "stream",
     "text": [
      "Enter h =  10\n",
      "Enter l =  2\n",
      "Enter b =  3\n"
     ]
    },
    {
     "name": "stdout",
     "output_type": "stream",
     "text": [
      "60\n"
     ]
    }
   ],
   "source": [
    "class Cal:\n",
    "    def volume(self,h):\n",
    "        l = int(input(\"Enter l = \"))\n",
    "        b = int(input(\"Enter b = \"))\n",
    "        v = l*b*h\n",
    "        print(v)\n",
    "obj = Cal()\n",
    "h = int(input(\"Enter h = \"))\n",
    "obj.volume(h)\n"
   ]
  },
  {
   "cell_type": "code",
   "execution_count": null,
   "id": "dd6e6ad3-eadc-41cd-b8b1-b7b1f0d89e0e",
   "metadata": {},
   "outputs": [],
   "source": []
  },
  {
   "cell_type": "code",
   "execution_count": 12,
   "id": "1f77faae-0020-446a-ac23-7d0e46976e86",
   "metadata": {},
   "outputs": [
    {
     "name": "stdin",
     "output_type": "stream",
     "text": [
      "Enter l =  10\n",
      "Enter b =  2\n",
      "Enter h =  3\n"
     ]
    },
    {
     "name": "stdout",
     "output_type": "stream",
     "text": [
      "60\n"
     ]
    }
   ],
   "source": [
    "class Cal:\n",
    "    def __init__(self):\n",
    "        self.l = int(input(\"Enter l = \"))\n",
    "        self.b = int(input(\"Enter b = \"))\n",
    "        self.h = int(input(\"Enter h = \"))\n",
    "        \n",
    "    def volume(self):\n",
    "        v = self.l*self.b*self.h\n",
    "        print(v)\n",
    "obj = Cal()\n",
    "\n",
    "obj.volume()\n"
   ]
  },
  {
   "cell_type": "code",
   "execution_count": 17,
   "id": "baa32bce-71f1-43df-bc05-8a584d3fd81a",
   "metadata": {},
   "outputs": [
    {
     "name": "stdin",
     "output_type": "stream",
     "text": [
      "Enter name =  nitesh\n",
      "Enter age =  20\n",
      "Enter add =  baneshowr\n"
     ]
    },
    {
     "name": "stdout",
     "output_type": "stream",
     "text": [
      "nitesh baneshowr\n",
      "Hello World I am nitesh. I am 20. I am from baneshowr\n"
     ]
    }
   ],
   "source": [
    "class Info:\n",
    "    def __init__(self):\n",
    "        self.name = input(\"Enter name = \")\n",
    "        self.age = int(input(\"Enter age = \"))\n",
    "        self.add = input(\"Enter add = \")\n",
    "    def data(self):\n",
    "        print(self.name, self.add)\n",
    "    def info(self):\n",
    "        print(f\"Hello World I am {self.name}. I am {self.age}. I am from {self.add}\")\n",
    "obj = Info()\n",
    "obj.data()\n",
    "obj.info()"
   ]
  },
  {
   "cell_type": "code",
   "execution_count": 21,
   "id": "4f62632d-e391-4d87-90f9-64207b09a1ee",
   "metadata": {},
   "outputs": [
    {
     "name": "stdin",
     "output_type": "stream",
     "text": [
      "Enter name =  Ram\n",
      "Enter age =  20\n",
      "Enter add =  address\n"
     ]
    },
    {
     "name": "stdout",
     "output_type": "stream",
     "text": [
      "Ram address\n",
      "Hello World I am Ram. I am 20. I am from address\n"
     ]
    }
   ],
   "source": [
    "class Info:\n",
    "    def __init__(self,name,age,add):\n",
    "        self.n = name\n",
    "        self.a = age\n",
    "        self.ad = add\n",
    "        \n",
    "    def data(self):\n",
    "        print(self.n, self.ad)\n",
    "    def info(self):\n",
    "        print(f\"Hello World I am {self.n}. I am {self.a}. I am from {self.ad}\")\n",
    "\n",
    "name = input(\"Enter name = \")\n",
    "age = int(input(\"Enter age = \"))\n",
    "add = input(\"Enter add = \")\n",
    "\n",
    "obj = Info(name,age,add)\n",
    "obj.data()\n",
    "obj.info()"
   ]
  },
  {
   "cell_type": "code",
   "execution_count": null,
   "id": "0ef0e06b-5e60-46d9-81f6-0a2830e8b7f3",
   "metadata": {},
   "outputs": [],
   "source": []
  }
 ],
 "metadata": {
  "kernelspec": {
   "display_name": "Python 3 (ipykernel)",
   "language": "python",
   "name": "python3"
  },
  "language_info": {
   "codemirror_mode": {
    "name": "ipython",
    "version": 3
   },
   "file_extension": ".py",
   "mimetype": "text/x-python",
   "name": "python",
   "nbconvert_exporter": "python",
   "pygments_lexer": "ipython3",
   "version": "3.10.0"
  }
 },
 "nbformat": 4,
 "nbformat_minor": 5
}
