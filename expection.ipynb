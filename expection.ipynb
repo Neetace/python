{
 "cells": [
  {
   "cell_type": "code",
   "execution_count": null,
   "id": "ee3cbe57-7eb1-4b66-93c8-9cabf24f7527",
   "metadata": {},
   "outputs": [],
   "source": []
  },
  {
   "cell_type": "code",
   "execution_count": 3,
   "id": "d954ed51-a122-45c9-92b5-511c78183f56",
   "metadata": {},
   "outputs": [
    {
     "name": "stdin",
     "output_type": "stream",
     "text": [
      "Enter a =  sdfasdf\n"
     ]
    },
    {
     "name": "stdout",
     "output_type": "stream",
     "text": [
      "ENter only int value\n"
     ]
    }
   ],
   "source": [
    "try:\n",
    "    a = int(input(\"Enter a = \"))\n",
    "    b= int(input(\"Enter b = \"))\n",
    "    c = a/b\n",
    "except ValueError:\n",
    "    print(\"Enter only int value\")\n",
    "except ZeroDivisionError:\n",
    "    print(\"Value of b can not be zero\")\n",
    "else: \n",
    "    print(c)"
   ]
  },
  {
   "cell_type": "code",
   "execution_count": 10,
   "id": "250e54bd-cf75-48e3-8a6e-bbcc112033e4",
   "metadata": {},
   "outputs": [
    {
     "name": "stdin",
     "output_type": "stream",
     "text": [
      "Enter your age =  12\n"
     ]
    },
    {
     "ename": "AssertionError",
     "evalue": "",
     "output_type": "error",
     "traceback": [
      "\u001b[1;31m---------------------------------------------------------------------------\u001b[0m",
      "\u001b[1;31mAssertionError\u001b[0m                            Traceback (most recent call last)",
      "Cell \u001b[1;32mIn[10], line 3\u001b[0m\n\u001b[0;32m      1\u001b[0m \u001b[38;5;66;03m# assert statement \u001b[39;00m\n\u001b[0;32m      2\u001b[0m age \u001b[38;5;241m=\u001b[39m \u001b[38;5;28mint\u001b[39m(\u001b[38;5;28minput\u001b[39m(\u001b[38;5;124m\"\u001b[39m\u001b[38;5;124mEnter your age = \u001b[39m\u001b[38;5;124m\"\u001b[39m))\n\u001b[1;32m----> 3\u001b[0m \u001b[38;5;28;01massert\u001b[39;00m age \u001b[38;5;241m>\u001b[39m\u001b[38;5;241m=\u001b[39m\u001b[38;5;241m20\u001b[39m\n",
      "\u001b[1;31mAssertionError\u001b[0m: "
     ]
    }
   ],
   "source": [
    "# assert statement \n",
    "age = int(input(\"Enter your age = \"))\n",
    "assert age >=20"
   ]
  },
  {
   "cell_type": "code",
   "execution_count": 9,
   "id": "2fd7b1f4-7db1-4af0-8fb4-699acf7b80c7",
   "metadata": {},
   "outputs": [
    {
     "name": "stdin",
     "output_type": "stream",
     "text": [
      "Enter your age =  21\n"
     ]
    },
    {
     "name": "stdout",
     "output_type": "stream",
     "text": [
      "Welcome\n"
     ]
    }
   ],
   "source": [
    "try:\n",
    "    age = int(input(\"Enter your age = \"))\n",
    "    assert age >=20\n",
    "except:\n",
    "    print(\"You are under 20 \")\n",
    "else: \n",
    "    print(\"Welcome\")"
   ]
  },
  {
   "cell_type": "code",
   "execution_count": null,
   "id": "6d99cc72-a0ca-4e9e-b992-832fb1bfd0fe",
   "metadata": {},
   "outputs": [
    {
     "name": "stdin",
     "output_type": "stream",
     "text": [
      "Enter username =  admin\n",
      "Enter password =  admin\n"
     ]
    },
    {
     "name": "stdout",
     "output_type": "stream",
     "text": [
      "Username doesnot match.\n"
     ]
    },
    {
     "name": "stdin",
     "output_type": "stream",
     "text": [
      "Enter username =  admin\n",
      "Enter password =  admin\n"
     ]
    },
    {
     "name": "stdout",
     "output_type": "stream",
     "text": [
      "Username doesnot match.\n"
     ]
    },
    {
     "name": "stdin",
     "output_type": "stream",
     "text": [
      "Enter username =  admin\n",
      "Enter password =  admin\n"
     ]
    },
    {
     "name": "stdout",
     "output_type": "stream",
     "text": [
      "Username doesnot match.\n"
     ]
    },
    {
     "name": "stdin",
     "output_type": "stream",
     "text": [
      "Enter username =  sdf\n",
      "Enter password =  sdf\n"
     ]
    },
    {
     "name": "stdout",
     "output_type": "stream",
     "text": [
      "Username doesnot match.\n"
     ]
    },
    {
     "name": "stdin",
     "output_type": "stream",
     "text": [
      "Enter username =  admin\n",
      "Enter password =  admn\n"
     ]
    },
    {
     "name": "stdout",
     "output_type": "stream",
     "text": [
      "Username doesnot match.\n"
     ]
    },
    {
     "name": "stdin",
     "output_type": "stream",
     "text": [
      "Enter username =  admin\n",
      "Enter password =  admin\n"
     ]
    },
    {
     "name": "stdout",
     "output_type": "stream",
     "text": [
      "Username doesnot match.\n"
     ]
    }
   ],
   "source": [
    "c = 1\n",
    "username = \"admin \"\n",
    "password = \"admin \"\n",
    "def login():\n",
    "    global c\n",
    "    try:\n",
    "        username1 = input(\"Enter username = \")\n",
    "        password1= input(\"Enter password = \")\n",
    "        assert username == username1 and password == password1\n",
    "    except AssertionError:\n",
    "        print(\"Username doesnot match.\")\n",
    "        c = c + 1\n",
    "        login()\n",
    "    else: \n",
    "        print(f\"Login sucessfull! in {c} attempt.\")\n",
    "login()"
   ]
  },
  {
   "cell_type": "code",
   "execution_count": null,
   "id": "fc12c297-2958-4d5e-9d62-a0a5514c9aff",
   "metadata": {},
   "outputs": [],
   "source": []
  }
 ],
 "metadata": {
  "kernelspec": {
   "display_name": "Python 3 (ipykernel)",
   "language": "python",
   "name": "python3"
  },
  "language_info": {
   "codemirror_mode": {
    "name": "ipython",
    "version": 3
   },
   "file_extension": ".py",
   "mimetype": "text/x-python",
   "name": "python",
   "nbconvert_exporter": "python",
   "pygments_lexer": "ipython3",
   "version": "3.10.0"
  }
 },
 "nbformat": 4,
 "nbformat_minor": 5
}
