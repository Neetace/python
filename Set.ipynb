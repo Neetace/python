{
 "cells": [
  {
   "cell_type": "code",
   "execution_count": 1,
   "id": "55b59f4f-0b34-4693-a27d-ba1c751f9fc8",
   "metadata": {},
   "outputs": [],
   "source": [
    "# Set \n",
    "# No indexing \n",
    "# Mutiple biit no duplicate data \n",
    "# Unordered \n",
    "# Mutable "
   ]
  },
  {
   "cell_type": "code",
   "execution_count": 3,
   "id": "5821d7b8-c302-4742-902a-5a1ddab83e88",
   "metadata": {},
   "outputs": [
    {
     "name": "stdout",
     "output_type": "stream",
     "text": [
      "{'Cat', 'Fish', 'Ball', 'Dog'}\n"
     ]
    }
   ],
   "source": [
    "#unordered\n",
    "a = {\"Cat\", \"Fish\", \"Dog\", \"Ball\"}\n",
    "print(a)"
   ]
  },
  {
   "cell_type": "code",
   "execution_count": 11,
   "id": "72964ee2-4679-4ef3-a14d-41536205553e",
   "metadata": {},
   "outputs": [
    {
     "name": "stdout",
     "output_type": "stream",
     "text": [
      "{'Cat', 'Fish', 2, 'Ball', 1, 'Apple', 'Dog'}\n",
      "<class 'set'>\n"
     ]
    }
   ],
   "source": [
    "a = {\"Cat\",\"Fish\",\"Apple\",\"Apple\",\"Fish\", \"Dog\", \"Ball\",1,2}\n",
    "print(a)\n",
    "print(type(a))"
   ]
  },
  {
   "cell_type": "code",
   "execution_count": 12,
   "id": "db24d77d-7c87-4346-b528-c91fdad2a1d1",
   "metadata": {},
   "outputs": [
    {
     "data": {
      "text/plain": [
       "{'Apple', 'Banana', 'Cat'}"
      ]
     },
     "execution_count": 12,
     "metadata": {},
     "output_type": "execute_result"
    }
   ],
   "source": [
    "# add in used in set only. Not append is used in set\n",
    "s = set()\n",
    "s.add(\"Apple\")\n",
    "s.add(\"Banana\")\n",
    "s.add(\"Cat\")\n",
    "s"
   ]
  },
  {
   "cell_type": "code",
   "execution_count": 14,
   "id": "445f3948-9377-4e68-bba4-b287632d8c24",
   "metadata": {},
   "outputs": [
    {
     "data": {
      "text/plain": [
       "{1, 2, 'Ball', 'Cat', 'Dog', 'Fish'}"
      ]
     },
     "execution_count": 14,
     "metadata": {},
     "output_type": "execute_result"
    }
   ],
   "source": [
    "# count function is not used in set. becoz it gives unique values always.\n",
    "a = {'Cat', 'Fish', 2, 'Ball', 1, 'Apple', 'Dog'}\n",
    "a.remove(\"Apple\")\n",
    "a"
   ]
  },
  {
   "cell_type": "code",
   "execution_count": 17,
   "id": "435bbf29-c687-49e8-bce9-7a4b549a70aa",
   "metadata": {},
   "outputs": [
    {
     "name": "stdout",
     "output_type": "stream",
     "text": [
      "Cat\n",
      "Fish\n",
      "2\n",
      "Ball\n",
      "1\n",
      "Apple\n",
      "Dog\n"
     ]
    }
   ],
   "source": [
    "#uniqueness and randomnes\n",
    "s= {'Cat', 'Fish', 2, 'Ball', 1, 'Apple', 'Dog'}\n",
    "for i in s:\n",
    "    print(i)"
   ]
  },
  {
   "cell_type": "code",
   "execution_count": 21,
   "id": "e249808d-6234-4400-9aed-e5928890136d",
   "metadata": {},
   "outputs": [
    {
     "name": "stdout",
     "output_type": "stream",
     "text": [
      "Both in name1 and ms =  {'Bill', 'Ram'}\n",
      "When both name1 and ms combines =  {'Ram', 'Shyam', 'Elon', 'Harry', 'Musk', 'Mark', 'Bill', 'John'}\n"
     ]
    }
   ],
   "source": [
    "# set for math\n",
    "name1 = {\"Ram\", \"Shyam\", \"Mark\", \"John\",\"Bill\"}\n",
    "ms = {\"Ram\",\"Elon\", \"Musk\", \"Harry\", \"Bill\"}\n",
    "print(\"Both in name1 and ms = \",name1.intersection(ms))\n",
    "print(\"When both name1 and ms combines = \",name1.union(ms))\n"
   ]
  },
  {
   "cell_type": "code",
   "execution_count": 22,
   "id": "5a1eef32-09bd-4de8-97a3-c6eb1cb62c03",
   "metadata": {},
   "outputs": [
    {
     "name": "stdout",
     "output_type": "stream",
     "text": [
      "only in name1 {'Mark', 'John', 'Shyam'}\n"
     ]
    }
   ],
   "source": [
    "print(\"only in name1\", name1-ms)"
   ]
  },
  {
   "cell_type": "code",
   "execution_count": 23,
   "id": "9dfed2cd-68ff-48c2-9a56-1eb9fef07bf3",
   "metadata": {},
   "outputs": [
    {
     "name": "stdout",
     "output_type": "stream",
     "text": [
      "only in ms {'Elon', 'Harry', 'Musk'}\n"
     ]
    }
   ],
   "source": [
    "print(\"only in ms\", ms-name1)"
   ]
  },
  {
   "cell_type": "code",
   "execution_count": 24,
   "id": "ca95b20d-eea7-442e-8268-bd57762963b6",
   "metadata": {},
   "outputs": [
    {
     "data": {
      "text/plain": [
       "{'abc', 'xyz'}"
      ]
     },
     "execution_count": 24,
     "metadata": {},
     "output_type": "execute_result"
    }
   ],
   "source": [
    "u = {'Ram', 'Shyam', 'Elon', 'Harry', 'Musk', 'Mark', 'Bill', 'John', 'abc', 'xyz'}\n",
    "u-name1-ms"
   ]
  },
  {
   "cell_type": "code",
   "execution_count": 25,
   "id": "301fcabe-a516-49fe-a9de-ff6adaa61f34",
   "metadata": {},
   "outputs": [
    {
     "data": {
      "text/plain": [
       "{'John', 'Mark', 'Shyam', 'abc', 'xyz'}"
      ]
     },
     "execution_count": 25,
     "metadata": {},
     "output_type": "execute_result"
    }
   ],
   "source": [
    "u-ms"
   ]
  },
  {
   "cell_type": "code",
   "execution_count": null,
   "id": "c7040569-990f-49cc-9871-8b024b7f3abe",
   "metadata": {},
   "outputs": [],
   "source": []
  },
  {
   "cell_type": "code",
   "execution_count": null,
   "id": "028e0d2f-7418-48e9-b772-f6ec7a97095e",
   "metadata": {},
   "outputs": [],
   "source": []
  }
 ],
 "metadata": {
  "kernelspec": {
   "display_name": "Python 3 (ipykernel)",
   "language": "python",
   "name": "python3"
  },
  "language_info": {
   "codemirror_mode": {
    "name": "ipython",
    "version": 3
   },
   "file_extension": ".py",
   "mimetype": "text/x-python",
   "name": "python",
   "nbconvert_exporter": "python",
   "pygments_lexer": "ipython3",
   "version": "3.10.0"
  }
 },
 "nbformat": 4,
 "nbformat_minor": 5
}
